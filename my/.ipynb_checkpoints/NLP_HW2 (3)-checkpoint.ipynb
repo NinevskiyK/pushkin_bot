{
 "cells": [
  {
   "cell_type": "markdown",
   "metadata": {},
   "source": [
    "##  Text generation by Markov chain"
   ]
  },
  {
   "cell_type": "code",
   "execution_count": 1,
   "metadata": {},
   "outputs": [],
   "source": [
    "import csv"
   ]
  },
  {
   "cell_type": "markdown",
   "metadata": {},
   "source": [
    "Markov chain is a probabalistic model in which the probability of each event depends only on the state attained in the previous event. [markovify](https://github.com/jsvine/markovify) is a library for text generation by Markov chain.\n",
    "\n",
    "Use \"pip install markovify\" to install markovify"
   ]
  },
  {
   "cell_type": "code",
   "execution_count": 2,
   "metadata": {},
   "outputs": [],
   "source": [
    "import markovify"
   ]
  },
  {
   "cell_type": "markdown",
   "metadata": {},
   "source": [
    "Download [Dataset.csv](https://drive.google.com/file/d/1raxIkJZ4lMTvgTB8eYjxu4Ux8aNL-x0s/view?usp=sharing) composed of sarcastic and serious headlines for the news. The csv-file consists of two columns. \"headline\" column contains texts of headlines. \"is_sarcastic\" column contain 0 if the hiadline is serious and 1 otherwise.\n",
    "\n",
    "Read dataset "
   ]
  },
  {
   "cell_type": "code",
   "execution_count": 3,
   "metadata": {},
   "outputs": [
    {
     "name": "stdout",
     "output_type": "stream",
     "text": [
      "Found 13634 sarcastic texts in Dataset.csv\n",
      "Found 14985 serious texts in Dataset.csv\n"
     ]
    }
   ],
   "source": [
    "texts_serious = [] # list of serious hiadline texts\n",
    "texts_sarcastic = [] # list of sarcastic hiadline texts\n",
    "with open('Dataset.csv', encoding='utf-8') as f:\n",
    "    # Rread csv-file by DictReader from csv library\n",
    "    reader = csv.DictReader(f) \n",
    "    for line in reader:\n",
    "        # read texts of headline\n",
    "        headline = line['headline'].strip()\n",
    "        # read sarcasticity of headline\n",
    "        is_sarcastic = int(line['is_sarcastic'].strip())\n",
    "        if is_sarcastic:\n",
    "            texts_sarcastic.append(headline)\n",
    "        else:\n",
    "            texts_serious.append(headline)\n",
    "print('Found {} sarcastic texts in Dataset.csv'.format(len(texts_sarcastic)))\n",
    "print('Found {} serious texts in Dataset.csv'.format(len(texts_serious)))"
   ]
  },
  {
   "cell_type": "markdown",
   "metadata": {},
   "source": [
    "Generate 20 serious headlines"
   ]
  },
  {
   "cell_type": "code",
   "execution_count": 6,
   "metadata": {},
   "outputs": [
    {
     "data": {
      "text/plain": [
       "'georgia election worker assures black man everyone at oscars after - work drinks'"
      ]
     },
     "execution_count": 6,
     "metadata": {},
     "output_type": "execute_result"
    }
   ],
   "source": [
    "text_model = markovify.Text(texts_sarcastic)\n",
    "text_model.make_sentence_with_start(\"georgia election\")"
   ]
  },
  {
   "cell_type": "markdown",
   "metadata": {},
   "source": [
    "Create model and generate 20 sarcastic headlines"
   ]
  },
  {
   "cell_type": "code",
   "execution_count": null,
   "metadata": {},
   "outputs": [],
   "source": [
    "text_model = markovify.Text(texts_sarcastic)\n",
    "\n",
    "for i in range(20):\n",
    "    print(text_model_serious.make_sentence())"
   ]
  },
  {
   "cell_type": "markdown",
   "metadata": {},
   "source": [
    "## Text generation by Variation Autoencoder"
   ]
  },
  {
   "cell_type": "markdown",
   "metadata": {},
   "source": [
    "This part of tutorial based on [Text generation with a Variational Autoencoder](https://nicgian.github.io/text-generation-vae/) article. For sentence generation we use Variational Autoencoder (VAE) neural network model that is an extension seq2seq model. Originally VAE was described in [Auto-Encoding Variational Bayes](https://arxiv.org/pdf/1312.6114.pdf) paper. The idea behind Variational Autoencoder is that we impose predefined disribution (e.g., normal distribution) on the latent state formed by encoder. On the one hand this restriction alow us to sample random vectors from normal distribution and generate arbitrary sentences. On the othe hand this restriction form very dense well differentiated space without holes"
   ]
  },
  {
   "cell_type": "code",
   "execution_count": 67,
   "metadata": {},
   "outputs": [
    {
     "ename": "ModuleNotFoundError",
     "evalue": "No module named 'tensorflow'",
     "output_type": "error",
     "traceback": [
      "\u001b[1;31m---------------------------------------------------------------------------\u001b[0m",
      "\u001b[1;31mModuleNotFoundError\u001b[0m                       Traceback (most recent call last)",
      "\u001b[1;32m<ipython-input-67-f88261e48201>\u001b[0m in \u001b[0;36m<module>\u001b[1;34m\u001b[0m\n\u001b[1;32m----> 1\u001b[1;33m \u001b[1;32mimport\u001b[0m \u001b[0mtensorflow\u001b[0m \u001b[1;32mas\u001b[0m \u001b[0mtf\u001b[0m\u001b[1;33m\u001b[0m\u001b[1;33m\u001b[0m\u001b[0m\n\u001b[0m\u001b[0;32m      2\u001b[0m \u001b[1;32mimport\u001b[0m \u001b[0mtensorflow_addons\u001b[0m \u001b[1;32mas\u001b[0m \u001b[0mtfa\u001b[0m\u001b[1;33m\u001b[0m\u001b[1;33m\u001b[0m\u001b[0m\n\u001b[0;32m      3\u001b[0m \u001b[1;33m\u001b[0m\u001b[0m\n\u001b[0;32m      4\u001b[0m \u001b[1;33m\u001b[0m\u001b[0m\n\u001b[0;32m      5\u001b[0m \u001b[1;32mfrom\u001b[0m \u001b[0mkeras\u001b[0m\u001b[1;33m.\u001b[0m\u001b[0mlayers\u001b[0m \u001b[1;32mimport\u001b[0m \u001b[0mBidirectional\u001b[0m\u001b[1;33m,\u001b[0m \u001b[0mDense\u001b[0m\u001b[1;33m,\u001b[0m \u001b[0mEmbedding\u001b[0m\u001b[1;33m,\u001b[0m\u001b[0;31m \u001b[0m\u001b[0;31m\\\u001b[0m\u001b[1;33m\u001b[0m\u001b[1;33m\u001b[0m\u001b[0m\n",
      "\u001b[1;31mModuleNotFoundError\u001b[0m: No module named 'tensorflow'"
     ]
    }
   ],
   "source": [
    "import tensorflow as tf\n",
    "import tensorflow_addons as tfa\n",
    "\n",
    "\n",
    "from keras.layers import Bidirectional, Dense, Embedding, \\\n",
    "Input, Lambda, LSTM, RepeatVector, TimeDistributed, Layer, Activation, Dropout\n",
    "from keras.preprocessing.sequence import pad_sequences\n",
    "from keras.layers.advanced_activations import ELU\n",
    "from keras.preprocessing.text import Tokenizer\n",
    "from keras.callbacks import ModelCheckpoint\n",
    "from keras.optimizers import Adam\n",
    "from keras import backend as K\n",
    "from keras.models import Model\n",
    "\n",
    "from scipy import spatial\n",
    "import pandas as pd\n",
    "import numpy as np\n",
    "import codecs\n",
    "import random\n",
    "import csv\n",
    "import os"
   ]
  },
  {
   "cell_type": "markdown",
   "metadata": {},
   "source": [
    "Dowload [GloVe](http://nlp.stanford.edu/data/glove.6B.zip) pretrained word embedding vectors"
   ]
  },
  {
   "cell_type": "code",
   "execution_count": 70,
   "metadata": {},
   "outputs": [],
   "source": [
    "MAX_SEQUENCE_LENGTH = 15 # Max text length in tokens\n",
    "MAX_NB_WORDS = 20000 # Max words in dictionary\n",
    "EMBEDDING_DIM = 50 # Dimensionality of GloVe vectors "
   ]
  },
  {
   "cell_type": "markdown",
   "metadata": {},
   "source": [
    "Create sentence tokenizer and two dictionaries: word_to_id and id_to_word\n",
    "\n",
    "For tokenisation we use [Tokenizer](https://www.tensorflow.org/api_docs/python/tf/keras/preprocessing/text/Tokenizer) from keras library."
   ]
  },
  {
   "cell_type": "code",
   "execution_count": 1,
   "metadata": {},
   "outputs": [],
   "source": [
    "#your code here"
   ]
  },
  {
   "cell_type": "markdown",
   "metadata": {},
   "source": [
    "Tokenize sarcastic texts and create tensor composed of tokens indexes. If a sentence shorter than MAX_SEQUENCE_LENGTH we pad it. If a sentence longer than MAX_SEQUENCE_LENGTH we cut it."
   ]
  },
  {
   "cell_type": "code",
   "execution_count": 4,
   "metadata": {},
   "outputs": [],
   "source": [
    "#your code here"
   ]
  },
  {
   "cell_type": "markdown",
   "metadata": {},
   "source": [
    "Define batch generator to train a neural network\n",
    "\n",
    "For padding sentences to max length we use [pad_sequences](https://www.tensorflow.org/api_docs/python/tf/keras/preprocessing/sequence/pad_sequences)"
   ]
  },
  {
   "cell_type": "code",
   "execution_count": 73,
   "metadata": {},
   "outputs": [],
   "source": [
    "def sent_generator(TRAIN_DATA_FILE, batchsize):\n",
    "    # Create iterator that reads dataset file batch by batch \n",
    "    #your code here\n",
    "\n",
    "        # Read a column that contains headlines\n",
    "        #your code here\n",
    "        \n",
    "        # Tokenize texts and create padded tensor composed of tokens indexes\n",
    "        #your code here\n",
    "        \n",
    "        # Return input-target pairs\n",
    "        #your code here"
   ]
  },
  {
   "cell_type": "markdown",
   "metadata": {},
   "source": [
    "Load pretrained GloVe vectors described in [GloVe: Global Vectors for Word Representation](https://nlp.stanford.edu/pubs/glove.pdf) paper"
   ]
  },
  {
   "cell_type": "code",
   "execution_count": 74,
   "metadata": {},
   "outputs": [
    {
     "name": "stdout",
     "output_type": "stream",
     "text": [
      "Found 400000 word vectors.\n"
     ]
    }
   ],
   "source": [
    "embeddings_index = {}\n",
    "with open('glove.6B.50d.txt', encoding='utf-8') as f:\n",
    "    # read rows from file line by line\n",
    "    for line in f:\n",
    "        values = line.split()\n",
    "        word = values[0] # Get word\n",
    "        coefs = np.asarray(values[1:], dtype='float32') # Get elements of word's vector\n",
    "        embeddings_index[word] = coefs\n",
    "\n",
    "print('Found %s word vectors.' % len(embeddings_index))"
   ]
  },
  {
   "cell_type": "markdown",
   "metadata": {},
   "source": [
    "Create matrix from embedding vectors. Any row of the matrix is a word's vector. We get words from the dictionary word_to_id defined earlier."
   ]
  },
  {
   "cell_type": "code",
   "execution_count": 75,
   "metadata": {},
   "outputs": [
    {
     "name": "stdout",
     "output_type": "stream",
     "text": [
      "Null word embeddings: 1\n"
     ]
    }
   ],
   "source": [
    "glove_embedding_matrix = np.zeros((NB_WORDS, EMBEDDING_DIM)) # Create empty matrix (max number of tokens, dimension of the embedding vectors)\n",
    "for word, i in word_to_id.items():\n",
    "    #your code here\n",
    "# compute number of words which there aren't in the GloVe vectors\n",
    "print('Null word embeddings: %d' % np.sum(np.sum(glove_embedding_matrix, axis=1) == 0))"
   ]
  },
  {
   "cell_type": "markdown",
   "metadata": {},
   "source": [
    "Define parameters of the net"
   ]
  },
  {
   "cell_type": "code",
   "execution_count": 76,
   "metadata": {},
   "outputs": [],
   "source": [
    "batch_size = 64\n",
    "max_len = MAX_SEQUENCE_LENGTH\n",
    "emb_dim = EMBEDDING_DIM\n",
    "latent_dim = 32 # dimensionality of the hidden state in encoder and decoder RNN's\n",
    "intermediate_dim = 96 # dimensionality of variational space into which we map encoder's hidden state\n",
    "epsilon_std = 1.0 # standard deviation of gaussian noise\n",
    "act = ELU() # activation function of projection layer"
   ]
  },
  {
   "cell_type": "markdown",
   "metadata": {},
   "source": [
    "Encoder of the variational autoencoder. It based on bidirectional LSTM\n",
    "\n",
    "We use following layers: [Input](https://www.tensorflow.org/api_docs/python/tf/keras/Input), [Embedding](https://www.tensorflow.org/api_docs/python/tf/keras/layers/Embedding), [Bidirectional](https://www.tensorflow.org/api_docs/python/tf/keras/layers/Bidirectional), [LSTM](https://www.tensorflow.org/api_docs/python/tf/keras/layers/LSTM), [Dropout](https://www.tensorflow.org/api_docs/python/tf/keras/layers/Dropout), [Dense](https://www.tensorflow.org/api_docs/python/tf/keras/layers/Dense), [ELU](https://www.tensorflow.org/api_docs/python/tf/keras/layers/ELU)"
   ]
  },
  {
   "cell_type": "code",
   "execution_count": 77,
   "metadata": {},
   "outputs": [],
   "source": [
    "x = Input(batch_shape=(None, max_len)) # Input layer fo the net. \n",
    "# Write an embedding layer for the input sequences of indexes. \n",
    "# Use pretrained word embeddings as a embedding layer weights and don't update these weights\n",
    "\n",
    "#your code here\n",
    "\n",
    "# Bidirectional LSTM encoder\n",
    "\n",
    "#your code here\n",
    "\n",
    "h = Dropout(0.2)(h) # Dropout for the BiLSTM layer to avoid overfitting \n",
    "\n",
    "# Fully-connected layer to map encoder hidden state into variational space\n",
    "\n",
    "#your code here\n",
    "\n",
    "h = Dropout(0.2)(h) # Dropout for the fully-connected layer to avoid overfitting \n",
    "z_mean = Dense(latent_dim)(h) # Fully-connected layer to map variational space into means space \n",
    "z_log_var = Dense(latent_dim)(h) # Fully-connected layer to map variational space into standard deviations space "
   ]
  },
  {
   "cell_type": "markdown",
   "metadata": {},
   "source": [
    "The mechanism for sampling hidden vectors from variational space\n",
    "\n",
    "To apply it to our model we use [Lambda](https://www.tensorflow.org/api_docs/python/tf/keras/layers/Lambda) layer"
   ]
  },
  {
   "cell_type": "code",
   "execution_count": 78,
   "metadata": {},
   "outputs": [],
   "source": [
    "def sampling(args):\n",
    "    # Vectors from means space and standard deviations space respectively\n",
    "    z_mean, z_log_var = args\n",
    "    # Sample random vectors from normal distribution with mean=0 and std=epsilon_std\n",
    "    \n",
    "    #your code here\n",
    "    \n",
    "    # Get new hidden state for decoder using vectors from means, standard deviations and normal random spaces\n",
    "    return #your code here\n",
    "\n",
    "# Get hidden states for the decoder\n",
    "z = Lambda(sampling, output_shape=(latent_dim,))([z_mean, z_log_var])"
   ]
  },
  {
   "cell_type": "markdown",
   "metadata": {},
   "source": [
    "Define decoder of the autoencoder\n",
    "\n",
    "For this we use following layers: [RepeatVector](https://www.tensorflow.org/api_docs/python/tf/keras/layers/RepeatVector), [LSTM](https://www.tensorflow.org/api_docs/python/tf/keras/layers/LSTM), [TimeDistributed](https://www.tensorflow.org/api_docs/python/tf/keras/layers/TimeDistributed), [Dense](https://www.tensorflow.org/api_docs/python/tf/keras/layers/Dense)"
   ]
  },
  {
   "cell_type": "code",
   "execution_count": 79,
   "metadata": {},
   "outputs": [],
   "source": [
    "# Repeat the hidden state vector to form input sequence for decoder\n",
    "repeated_context = RepeatVector(max_len)\n",
    "# Decoder LSTM\n",
    "decoder_h = LSTM(intermediate_dim, return_sequences=True, recurrent_dropout=0.2)\n",
    "# Layer for mapping from hidden satates space to the space of dimension equal to size of vocabulary\n",
    "decoder_mean = TimeDistributed(Dense(NB_WORDS, activation='linear'))\n",
    "# Generated sequence\n",
    "h_decoded = decoder_h(repeated_context(z))\n",
    "# Decode every time step vector of the decoded sequence into space of dimension equal to size of vocabulary\n",
    "x_decoded_mean = decoder_mean(h_decoded)"
   ]
  },
  {
   "cell_type": "markdown",
   "metadata": {},
   "source": [
    "Define layer for loss computing"
   ]
  },
  {
   "cell_type": "code",
   "execution_count": 80,
   "metadata": {},
   "outputs": [],
   "source": [
    "def zero_loss(y_true, y_pred):\n",
    "    # Return tensor filled with ones with shape equal generated sequence shape\n",
    "    return K.zeros_like(y_pred)"
   ]
  },
  {
   "cell_type": "code",
   "execution_count": 81,
   "metadata": {},
   "outputs": [],
   "source": [
    "class CustomVariationalLayer(Layer):\n",
    "    def __init__(self, **kwargs):\n",
    "        self.is_placeholder = True\n",
    "        super(CustomVariationalLayer, self).__init__(**kwargs)\n",
    "        # Create tensor (batch_size, max_sequence_len) filled with ones to consider all elements of generated sequence \n",
    "        self.target_weights = tf.constant(np.ones((batch_size, max_len)), tf.float32)\n",
    "\n",
    "    def vae_loss(self, x, x_decoded_mean):\n",
    "        # Get tensor with similar shape as x\n",
    "        labels = tf.cast(x, tf.int32)\n",
    "        # Compute sequence reconstruction loss\n",
    "        xent_loss = K.sum(tfa.seq2seq.sequence_loss(x_decoded_mean, labels,\n",
    "                                                    weights=self.target_weights,\n",
    "                                                    average_across_timesteps=False,\n",
    "                                                    average_across_batch=False), axis=-1)\n",
    "        # Compute KL-divergence as Variational loss \n",
    "        kl_loss = -0.5 * K.sum(1 + z_log_var - K.square(z_mean) - K.exp(z_log_var), axis=-1)\n",
    "        # Composite loss (reconstruction loss + Variational loss)\n",
    "        return K.mean(xent_loss + kl_loss)\n",
    "\n",
    "    def call(self, inputs):\n",
    "        x = inputs[0] # input sequence\n",
    "        x_decoded_mean = inputs[1] # reconstructed sequence\n",
    "        print(x.shape, x_decoded_mean.shape)\n",
    "        loss = self.vae_loss(x, x_decoded_mean) # Compute loss of the model\n",
    "        self.add_loss(loss, inputs=inputs)\n",
    "        # we don't use this output, but it has to have the correct shape\n",
    "        return K.ones_like(x)"
   ]
  },
  {
   "cell_type": "markdown",
   "metadata": {},
   "source": [
    "Assemble the model\n",
    "\n",
    "To define model we use [Model](https://www.tensorflow.org/api_docs/python/tf/keras/Model) from tensorflow.\n",
    "\n",
    "To train model employ [Adam](https://www.tensorflow.org/api_docs/python/tf/keras/optimizers/Adam) optimization algorithm"
   ]
  },
  {
   "cell_type": "code",
   "execution_count": 88,
   "metadata": {},
   "outputs": [
    {
     "name": "stdout",
     "output_type": "stream",
     "text": [
      "(None, 15) (64, 15, 20001)\n",
      "Model: \"model_12\"\n",
      "__________________________________________________________________________________________________\n",
      "Layer (type)                    Output Shape         Param #     Connected to                     \n",
      "==================================================================================================\n",
      "input_7 (InputLayer)            (None, 15)           0                                            \n",
      "__________________________________________________________________________________________________\n",
      "embedding_5 (Embedding)         (None, 15, 50)       1000050     input_7[0][0]                    \n",
      "__________________________________________________________________________________________________\n",
      "bidirectional_5 (Bidirectional) (None, 192)          112896      embedding_5[0][0]                \n",
      "__________________________________________________________________________________________________\n",
      "dropout_9 (Dropout)             (None, 192)          0           bidirectional_5[0][0]            \n",
      "__________________________________________________________________________________________________\n",
      "dense_16 (Dense)                (None, 96)           18528       dropout_9[0][0]                  \n",
      "__________________________________________________________________________________________________\n",
      "elu_5 (ELU)                     (None, 96)           0           dense_16[0][0]                   \n",
      "__________________________________________________________________________________________________\n",
      "dropout_10 (Dropout)            (None, 96)           0           elu_5[0][0]                      \n",
      "__________________________________________________________________________________________________\n",
      "dense_17 (Dense)                (None, 32)           3104        dropout_10[0][0]                 \n",
      "__________________________________________________________________________________________________\n",
      "dense_18 (Dense)                (None, 32)           3104        dropout_10[0][0]                 \n",
      "__________________________________________________________________________________________________\n",
      "lambda_5 (Lambda)               (None, 32)           0           dense_17[0][0]                   \n",
      "                                                                 dense_18[0][0]                   \n",
      "__________________________________________________________________________________________________\n",
      "repeat_vector_4 (RepeatVector)  (None, 15, 32)       0           lambda_5[0][0]                   \n",
      "__________________________________________________________________________________________________\n",
      "lstm_9 (LSTM)                   (None, 15, 96)       49536       repeat_vector_4[0][0]            \n",
      "__________________________________________________________________________________________________\n",
      "time_distributed_4 (TimeDistrib (None, 15, 20001)    1940097     lstm_9[0][0]                     \n",
      "__________________________________________________________________________________________________\n",
      "custom_variational_layer_6 (Cus [(None, 15), (None,  0           input_7[0][0]                    \n",
      "                                                                 time_distributed_4[0][0]         \n",
      "==================================================================================================\n",
      "Total params: 3,127,315\n",
      "Trainable params: 2,127,265\n",
      "Non-trainable params: 1,000,050\n",
      "__________________________________________________________________________________________________\n"
     ]
    }
   ],
   "source": [
    "# Create custom layer for loss computing\n",
    "loss_layer = CustomVariationalLayer()([x, x_decoded_mean])\n",
    "\n",
    "vae = Model(x, [loss_layer])\n",
    "# Use Adam optimizer with learning rate = 0.01\n",
    "opt = Adam(lr=0.01)\n",
    "vae.compile(optimizer='adam', loss=[zero_loss])\n",
    "# Show model structure\n",
    "vae.summary()"
   ]
  },
  {
   "cell_type": "markdown",
   "metadata": {},
   "source": [
    "Checkpoint function to save states of our model during training"
   ]
  },
  {
   "cell_type": "code",
   "execution_count": 89,
   "metadata": {},
   "outputs": [],
   "source": [
    "def create_model_checkpoint(model_name):\n",
    "    filepath = model_name + \".h5\"\n",
    "    directory = os.path.dirname(filepath)\n",
    "    try:\n",
    "        # Check if directory exists\n",
    "        os.stat(directory)\n",
    "    except:\n",
    "        # If directory doesn't exist, create the directory\n",
    "        os.mkdir(directory)\n",
    "    # Save model states\n",
    "    checkpointer = ModelCheckpoint(filepath=filepath, verbose=1, save_best_only=False)\n",
    "    return checkpointer\n",
    "\n",
    "# Create model checkpointer\n",
    "checkpointer = create_model_checkpoint(r'C:\\Users\\Stiv\\vae_seq2seq')"
   ]
  },
  {
   "cell_type": "markdown",
   "metadata": {},
   "source": [
    "Train model, test model after each apoch and save model's state"
   ]
  },
  {
   "cell_type": "code",
   "execution_count": 91,
   "metadata": {},
   "outputs": [
    {
     "name": "stdout",
     "output_type": "stream",
     "text": [
      "-------epoch:  0 -------\n",
      "Epoch 1/1\n",
      "438/437 [==============================] - 18s 41ms/step - loss: 65.1105 - val_loss: 82.5166\n",
      "\n",
      "Epoch 00001: saving model to C:\\Users\\Stiv\\vae_seq2seq.h5\n",
      "-------epoch:  1 -------\n",
      "Epoch 1/1\n",
      "438/437 [==============================] - 18s 40ms/step - loss: 64.9977 - val_loss: 82.5378\n",
      "\n",
      "Epoch 00001: saving model to C:\\Users\\Stiv\\vae_seq2seq.h5\n",
      "-------epoch:  2 -------\n",
      "Epoch 1/1\n",
      "438/437 [==============================] - 18s 41ms/step - loss: 64.8515 - val_loss: 82.6305\n",
      "\n",
      "Epoch 00001: saving model to C:\\Users\\Stiv\\vae_seq2seq.h5\n",
      "-------epoch:  3 -------\n",
      "Epoch 1/1\n",
      "438/437 [==============================] - 18s 40ms/step - loss: 64.7037 - val_loss: 82.4914\n",
      "\n",
      "Epoch 00001: saving model to C:\\Users\\Stiv\\vae_seq2seq.h5\n",
      "-------epoch:  4 -------\n",
      "Epoch 1/1\n",
      "438/437 [==============================] - 18s 41ms/step - loss: 64.5476 - val_loss: 82.6657\n",
      "\n",
      "Epoch 00001: saving model to C:\\Users\\Stiv\\vae_seq2seq.h5\n",
      "-------epoch:  5 -------\n",
      "Epoch 1/1\n",
      "438/437 [==============================] - 18s 41ms/step - loss: 64.3872 - val_loss: 82.5953\n",
      "\n",
      "Epoch 00001: saving model to C:\\Users\\Stiv\\vae_seq2seq.h5\n",
      "-------epoch:  6 -------\n",
      "Epoch 1/1\n",
      "438/437 [==============================] - 18s 41ms/step - loss: 64.2524 - val_loss: 82.5105\n",
      "\n",
      "Epoch 00001: saving model to C:\\Users\\Stiv\\vae_seq2seq.h5\n",
      "-------epoch:  7 -------\n",
      "Epoch 1/1\n",
      "438/437 [==============================] - 18s 41ms/step - loss: 64.0922 - val_loss: 82.4686\n",
      "\n",
      "Epoch 00001: saving model to C:\\Users\\Stiv\\vae_seq2seq.h5\n"
     ]
    }
   ],
   "source": [
    "nb_epoch = 8 # number of epochs for model training\n",
    "n_steps = 28000 / batch_size # Number of steps per epoch\n",
    "for counter in range(nb_epoch):\n",
    "    print('-------epoch: ', counter, '-------')\n",
    "    # Train model. Test and save model after every epoch\n",
    "    vae.fit_generator(sent_generator('Dataset.csv', batch_size),\n",
    "                      steps_per_epoch=n_steps, epochs=1, callbacks=[checkpointer],\n",
    "                      validation_data=(data_1_val, data_1_val))\n",
    "vae.save(r'vae_lstmFull32dim96hid.h5')"
   ]
  },
  {
   "cell_type": "markdown",
   "metadata": {},
   "source": [
    "Assemble encoder and decoder for sentence generation sampled from variational space"
   ]
  },
  {
   "cell_type": "code",
   "execution_count": 92,
   "metadata": {},
   "outputs": [],
   "source": [
    "# Make separate encoder to encode input sentence\n",
    "encoder = Model(x, z_mean)\n",
    "# Input layer for decoder to decode vectors sampled from variational space \n",
    "decoder_input = Input(shape=(latent_dim,))\n",
    "# Apply LSTM to decode hidden vector into sequence\n",
    "_h_decoded = decoder_h(repeated_context(decoder_input))\n",
    "# Decode every time step vector of the decoded sequence into space of dimension equal to size of vocabulary\n",
    "_x_decoded_mean = decoder_mean(_h_decoded)\n",
    "# Apply softmax to get most probable token\n",
    "_x_decoded_mean = Activation('softmax')(_x_decoded_mean)\n",
    "# Make decoderfor sempled sentences\n",
    "generator = Model(decoder_input, _x_decoded_mean)"
   ]
  },
  {
   "cell_type": "markdown",
   "metadata": {},
   "source": [
    "Generate sentence"
   ]
  },
  {
   "cell_type": "code",
   "execution_count": 93,
   "metadata": {},
   "outputs": [
    {
     "name": "stdout",
     "output_type": "stream",
     "text": [
      "'s to to to in\n",
      "lake bell welcomes baby girl\n"
     ]
    }
   ],
   "source": [
    "# Dictionary maps indexes to words\n",
    "index2word = {v: k for k, v in word_to_id.items()}\n",
    "# Fit sentences from validation set into encoder\n",
    "sent_encoded = encoder.predict(data_1_val, batch_size=16)\n",
    "# Decode encoded sentences\n",
    "x_test_reconstructed = generator.predict(sent_encoded)\n",
    "\n",
    "sent_idx = 400\n",
    "# Get words indexes with highest probability for the 500th sentence from validation set\n",
    "reconstructed_indexes = np.apply_along_axis(np.argmax, 1, x_test_reconstructed[sent_idx])\n",
    "# Map indexes of generated sentence to words\n",
    "word_list = list(np.vectorize(index2word.get)(reconstructed_indexes))\n",
    "word_list = ' '.join([w for w in word_list if w])\n",
    "print(word_list)\n",
    "# Map indexes of input sentence to words\n",
    "original_sent = list(np.vectorize(index2word.get)(data_1_val[sent_idx]))\n",
    "original_sent = ' '.join([w for w in original_sent if w])\n",
    "print(original_sent)"
   ]
  }
 ],
 "metadata": {
  "kernelspec": {
   "display_name": "Python 3",
   "language": "python",
   "name": "python3"
  },
  "language_info": {
   "codemirror_mode": {
    "name": "ipython",
    "version": 3
   },
   "file_extension": ".py",
   "mimetype": "text/x-python",
   "name": "python",
   "nbconvert_exporter": "python",
   "pygments_lexer": "ipython3",
   "version": "3.8.3"
  }
 },
 "nbformat": 4,
 "nbformat_minor": 2
}
